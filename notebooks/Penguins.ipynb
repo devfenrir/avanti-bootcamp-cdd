{
 "cells": [
  {
   "cell_type": "code",
   "execution_count": 1,
   "id": "473e62cb-bd93-421f-844d-3d28c42c2cf7",
   "metadata": {
    "tags": []
   },
   "outputs": [],
   "source": [
    "import pandas as pd\n",
    "import seaborn as sns"
   ]
  },
  {
   "cell_type": "code",
   "execution_count": 2,
   "id": "7ef91eea-5132-4471-a689-c4d4a474e068",
   "metadata": {
    "tags": []
   },
   "outputs": [
    {
     "data": {
      "text/html": [
       "<div>\n",
       "<style scoped>\n",
       "    .dataframe tbody tr th:only-of-type {\n",
       "        vertical-align: middle;\n",
       "    }\n",
       "\n",
       "    .dataframe tbody tr th {\n",
       "        vertical-align: top;\n",
       "    }\n",
       "\n",
       "    .dataframe thead th {\n",
       "        text-align: right;\n",
       "    }\n",
       "</style>\n",
       "<table border=\"1\" class=\"dataframe\">\n",
       "  <thead>\n",
       "    <tr style=\"text-align: right;\">\n",
       "      <th></th>\n",
       "      <th>species</th>\n",
       "      <th>island</th>\n",
       "      <th>bill_length_mm</th>\n",
       "      <th>bill_depth_mm</th>\n",
       "      <th>flipper_length_mm</th>\n",
       "      <th>body_mass_g</th>\n",
       "      <th>sex</th>\n",
       "    </tr>\n",
       "  </thead>\n",
       "  <tbody>\n",
       "    <tr>\n",
       "      <th>0</th>\n",
       "      <td>Adelie</td>\n",
       "      <td>Torgersen</td>\n",
       "      <td>39.1</td>\n",
       "      <td>18.7</td>\n",
       "      <td>181.0</td>\n",
       "      <td>3750.0</td>\n",
       "      <td>Male</td>\n",
       "    </tr>\n",
       "    <tr>\n",
       "      <th>1</th>\n",
       "      <td>Adelie</td>\n",
       "      <td>Torgersen</td>\n",
       "      <td>39.5</td>\n",
       "      <td>17.4</td>\n",
       "      <td>186.0</td>\n",
       "      <td>3800.0</td>\n",
       "      <td>Female</td>\n",
       "    </tr>\n",
       "    <tr>\n",
       "      <th>2</th>\n",
       "      <td>Adelie</td>\n",
       "      <td>Torgersen</td>\n",
       "      <td>40.3</td>\n",
       "      <td>18.0</td>\n",
       "      <td>195.0</td>\n",
       "      <td>3250.0</td>\n",
       "      <td>Female</td>\n",
       "    </tr>\n",
       "    <tr>\n",
       "      <th>3</th>\n",
       "      <td>Adelie</td>\n",
       "      <td>Torgersen</td>\n",
       "      <td>NaN</td>\n",
       "      <td>NaN</td>\n",
       "      <td>NaN</td>\n",
       "      <td>NaN</td>\n",
       "      <td>NaN</td>\n",
       "    </tr>\n",
       "    <tr>\n",
       "      <th>4</th>\n",
       "      <td>Adelie</td>\n",
       "      <td>Torgersen</td>\n",
       "      <td>36.7</td>\n",
       "      <td>19.3</td>\n",
       "      <td>193.0</td>\n",
       "      <td>3450.0</td>\n",
       "      <td>Female</td>\n",
       "    </tr>\n",
       "  </tbody>\n",
       "</table>\n",
       "</div>"
      ],
      "text/plain": [
       "  species     island  bill_length_mm  bill_depth_mm  flipper_length_mm  \\\n",
       "0  Adelie  Torgersen            39.1           18.7              181.0   \n",
       "1  Adelie  Torgersen            39.5           17.4              186.0   \n",
       "2  Adelie  Torgersen            40.3           18.0              195.0   \n",
       "3  Adelie  Torgersen             NaN            NaN                NaN   \n",
       "4  Adelie  Torgersen            36.7           19.3              193.0   \n",
       "\n",
       "   body_mass_g     sex  \n",
       "0       3750.0    Male  \n",
       "1       3800.0  Female  \n",
       "2       3250.0  Female  \n",
       "3          NaN     NaN  \n",
       "4       3450.0  Female  "
      ]
     },
     "execution_count": 2,
     "metadata": {},
     "output_type": "execute_result"
    }
   ],
   "source": [
    "df = sns.load_dataset('penguins')\n",
    "df.to_csv('../data/raw/data.csv', index=False)\n",
    "df.head()"
   ]
  },
  {
   "cell_type": "code",
   "execution_count": 3,
   "id": "3ec6a7b9-6f5c-4373-865f-2f8e84f5cd1c",
   "metadata": {
    "tags": []
   },
   "outputs": [
    {
     "data": {
      "text/plain": [
       "Index(['species', 'island', 'bill_length_mm', 'bill_depth_mm',\n",
       "       'flipper_length_mm', 'body_mass_g', 'sex'],\n",
       "      dtype='object')"
      ]
     },
     "execution_count": 3,
     "metadata": {},
     "output_type": "execute_result"
    }
   ],
   "source": [
    "df.columns"
   ]
  },
  {
   "cell_type": "code",
   "execution_count": 4,
   "id": "dfce228a-bff6-43c8-bde4-295c925da924",
   "metadata": {
    "tags": []
   },
   "outputs": [
    {
     "data": {
      "text/html": [
       "<div>\n",
       "<style scoped>\n",
       "    .dataframe tbody tr th:only-of-type {\n",
       "        vertical-align: middle;\n",
       "    }\n",
       "\n",
       "    .dataframe tbody tr th {\n",
       "        vertical-align: top;\n",
       "    }\n",
       "\n",
       "    .dataframe thead th {\n",
       "        text-align: right;\n",
       "    }\n",
       "</style>\n",
       "<table border=\"1\" class=\"dataframe\">\n",
       "  <thead>\n",
       "    <tr style=\"text-align: right;\">\n",
       "      <th></th>\n",
       "      <th>variavel</th>\n",
       "      <th>descricao</th>\n",
       "      <th>tipo</th>\n",
       "      <th>subtipo</th>\n",
       "    </tr>\n",
       "  </thead>\n",
       "  <tbody>\n",
       "    <tr>\n",
       "      <th>0</th>\n",
       "      <td>species</td>\n",
       "      <td>Nome da espécie</td>\n",
       "      <td>qualitativa</td>\n",
       "      <td>nominal</td>\n",
       "    </tr>\n",
       "    <tr>\n",
       "      <th>1</th>\n",
       "      <td>island</td>\n",
       "      <td>Nome da ilha onde foi feita a medição</td>\n",
       "      <td>qualitativa</td>\n",
       "      <td>nominal</td>\n",
       "    </tr>\n",
       "    <tr>\n",
       "      <th>2</th>\n",
       "      <td>bill_length_mm</td>\n",
       "      <td>Comprimento de bico em milímetros</td>\n",
       "      <td>quantitativa</td>\n",
       "      <td>continua</td>\n",
       "    </tr>\n",
       "    <tr>\n",
       "      <th>3</th>\n",
       "      <td>bill_depth_mm</td>\n",
       "      <td>Profundidade (altura) de bico em milímetros</td>\n",
       "      <td>quantitativa</td>\n",
       "      <td>continua</td>\n",
       "    </tr>\n",
       "    <tr>\n",
       "      <th>4</th>\n",
       "      <td>flipper_length_mm</td>\n",
       "      <td>Comprimento de nadadeira em milímetros</td>\n",
       "      <td>quantitativa</td>\n",
       "      <td>continua</td>\n",
       "    </tr>\n",
       "    <tr>\n",
       "      <th>5</th>\n",
       "      <td>body_mass_g</td>\n",
       "      <td>Massa corporal (peso em gramas)</td>\n",
       "      <td>quantitativa</td>\n",
       "      <td>continua</td>\n",
       "    </tr>\n",
       "    <tr>\n",
       "      <th>6</th>\n",
       "      <td>sex</td>\n",
       "      <td>Sexo dos indivíduos</td>\n",
       "      <td>qualitativa</td>\n",
       "      <td>nominal</td>\n",
       "    </tr>\n",
       "  </tbody>\n",
       "</table>\n",
       "</div>"
      ],
      "text/plain": [
       "            variavel                                    descricao  \\\n",
       "0            species                              Nome da espécie   \n",
       "1             island        Nome da ilha onde foi feita a medição   \n",
       "2     bill_length_mm            Comprimento de bico em milímetros   \n",
       "3      bill_depth_mm  Profundidade (altura) de bico em milímetros   \n",
       "4  flipper_length_mm       Comprimento de nadadeira em milímetros   \n",
       "5        body_mass_g              Massa corporal (peso em gramas)   \n",
       "6                sex                          Sexo dos indivíduos   \n",
       "\n",
       "           tipo   subtipo  \n",
       "0   qualitativa   nominal  \n",
       "1   qualitativa   nominal  \n",
       "2  quantitativa  continua  \n",
       "3  quantitativa  continua  \n",
       "4  quantitativa  continua  \n",
       "5  quantitativa  continua  \n",
       "6   qualitativa   nominal  "
      ]
     },
     "execution_count": 4,
     "metadata": {},
     "output_type": "execute_result"
    }
   ],
   "source": [
    "dicionario = pd.DataFrame([\n",
    "    {\n",
    "        \"variavel\": \"species\",\n",
    "        \"descricao\": \"Nome da espécie\",\n",
    "        \"tipo\":\"qualitativa\",\n",
    "        \"subtipo\":\"nominal\"\n",
    "    },{\n",
    "        \"variavel\": \"island\",\n",
    "        \"descricao\": \"Nome da ilha onde foi feita a medição\",\n",
    "        \"tipo\":\"qualitativa\",\n",
    "        \"subtipo\":\"nominal\"\n",
    "    },{\n",
    "        \"variavel\": \"bill_length_mm\",\n",
    "        \"descricao\": \"Comprimento de bico em milímetros\",\n",
    "        \"tipo\":\"quantitativa\",\n",
    "        \"subtipo\":\"continua\"\n",
    "    },{\n",
    "        \"variavel\": \"bill_depth_mm\",\n",
    "        \"descricao\": \"Profundidade (altura) de bico em milímetros\",\n",
    "        \"tipo\":\"quantitativa\",\n",
    "        \"subtipo\":\"continua\"\n",
    "    },{\n",
    "        \"variavel\": \"flipper_length_mm\",\n",
    "        \"descricao\": \"Comprimento de nadadeira em milímetros\",\n",
    "        \"tipo\":\"quantitativa\",\n",
    "        \"subtipo\":\"continua\"\n",
    "    },{\n",
    "        \"variavel\": \"body_mass_g\",\n",
    "        \"descricao\": \"Massa corporal (peso em gramas)\",\n",
    "        \"tipo\":\"quantitativa\",\n",
    "        \"subtipo\":\"continua\"\n",
    "    },{\n",
    "        \"variavel\": \"sex\",\n",
    "        \"descricao\": \"Sexo dos indivíduos\",\n",
    "        \"tipo\":\"qualitativa\",\n",
    "        \"subtipo\":\"nominal\"\n",
    "    }\n",
    "])\n",
    "\n",
    "dicionario"
   ]
  },
  {
   "cell_type": "code",
   "execution_count": 5,
   "id": "2d94d7c5-ca4e-4953-9ffd-3b73f4591721",
   "metadata": {
    "tags": []
   },
   "outputs": [],
   "source": [
    "dicionario.to_csv('../data/external/dictionary.csv', index=False)"
   ]
  }
 ],
 "metadata": {
  "kernelspec": {
   "display_name": "Python 3 (ipykernel)",
   "language": "python",
   "name": "python3"
  },
  "language_info": {
   "codemirror_mode": {
    "name": "ipython",
    "version": 3
   },
   "file_extension": ".py",
   "mimetype": "text/x-python",
   "name": "python",
   "nbconvert_exporter": "python",
   "pygments_lexer": "ipython3",
   "version": "3.10.12"
  }
 },
 "nbformat": 4,
 "nbformat_minor": 5
}
