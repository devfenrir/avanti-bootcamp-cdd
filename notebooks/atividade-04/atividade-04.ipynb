{
 "cells": [
  {
   "cell_type": "code",
   "execution_count": 29,
   "id": "d4a0d674-09cd-4867-8e4a-a7931c0dea34",
   "metadata": {
    "tags": []
   },
   "outputs": [],
   "source": [
    "import pandas as pd\n",
    "import seaborn as sns"
   ]
  },
  {
   "cell_type": "code",
   "execution_count": 30,
   "id": "06acb074-f80e-4489-9aa1-7823050912f9",
   "metadata": {
    "tags": []
   },
   "outputs": [],
   "source": [
    "## 1. Coleta de Dados"
   ]
  },
  {
   "cell_type": "code",
   "execution_count": 31,
   "id": "59203e2e-1dbe-4767-919b-21a91bf6bcf5",
   "metadata": {
    "tags": []
   },
   "outputs": [
    {
     "data": {
      "text/html": [
       "<div>\n",
       "<style scoped>\n",
       "    .dataframe tbody tr th:only-of-type {\n",
       "        vertical-align: middle;\n",
       "    }\n",
       "\n",
       "    .dataframe tbody tr th {\n",
       "        vertical-align: top;\n",
       "    }\n",
       "\n",
       "    .dataframe thead th {\n",
       "        text-align: right;\n",
       "    }\n",
       "</style>\n",
       "<table border=\"1\" class=\"dataframe\">\n",
       "  <thead>\n",
       "    <tr style=\"text-align: right;\">\n",
       "      <th></th>\n",
       "      <th>subject</th>\n",
       "      <th>timepoint</th>\n",
       "      <th>event</th>\n",
       "      <th>region</th>\n",
       "      <th>signal</th>\n",
       "    </tr>\n",
       "  </thead>\n",
       "  <tbody>\n",
       "    <tr>\n",
       "      <th>0</th>\n",
       "      <td>s13</td>\n",
       "      <td>18</td>\n",
       "      <td>stim</td>\n",
       "      <td>parietal</td>\n",
       "      <td>-0.017552</td>\n",
       "    </tr>\n",
       "    <tr>\n",
       "      <th>1</th>\n",
       "      <td>s5</td>\n",
       "      <td>14</td>\n",
       "      <td>stim</td>\n",
       "      <td>parietal</td>\n",
       "      <td>-0.080883</td>\n",
       "    </tr>\n",
       "    <tr>\n",
       "      <th>2</th>\n",
       "      <td>s12</td>\n",
       "      <td>18</td>\n",
       "      <td>stim</td>\n",
       "      <td>parietal</td>\n",
       "      <td>-0.081033</td>\n",
       "    </tr>\n",
       "    <tr>\n",
       "      <th>3</th>\n",
       "      <td>s11</td>\n",
       "      <td>18</td>\n",
       "      <td>stim</td>\n",
       "      <td>parietal</td>\n",
       "      <td>-0.046134</td>\n",
       "    </tr>\n",
       "    <tr>\n",
       "      <th>4</th>\n",
       "      <td>s10</td>\n",
       "      <td>18</td>\n",
       "      <td>stim</td>\n",
       "      <td>parietal</td>\n",
       "      <td>-0.037970</td>\n",
       "    </tr>\n",
       "  </tbody>\n",
       "</table>\n",
       "</div>"
      ],
      "text/plain": [
       "  subject  timepoint event    region    signal\n",
       "0     s13         18  stim  parietal -0.017552\n",
       "1      s5         14  stim  parietal -0.080883\n",
       "2     s12         18  stim  parietal -0.081033\n",
       "3     s11         18  stim  parietal -0.046134\n",
       "4     s10         18  stim  parietal -0.037970"
      ]
     },
     "execution_count": 31,
     "metadata": {},
     "output_type": "execute_result"
    }
   ],
   "source": [
    "df = sns.load_dataset('fmri')\n",
    "df.to_csv('../../data/raw/data.csv', index=False)\n",
    "df.head()"
   ]
  },
  {
   "cell_type": "code",
   "execution_count": 32,
   "id": "c5c1d0bd-5cc0-4f0b-b92c-562c4169861f",
   "metadata": {
    "tags": []
   },
   "outputs": [],
   "source": [
    "## 2. Descrição dos dados"
   ]
  },
  {
   "cell_type": "code",
   "execution_count": 33,
   "id": "920128af-b623-4b1f-bd42-a04815fe84df",
   "metadata": {
    "tags": []
   },
   "outputs": [],
   "source": [
    "## \"fMRI\" é uma compilação de informações provenientes de ressonâncias magnéticas funcionais realizadas em pacientes submetidos a estímulos visuais.\n",
    "## Esses dados são utilizados principalmente em tarefas de aprendizado de máquina supervisionado, com a variável 'evento' como variável dependente e\n",
    "## outras características como variáveis preditoras. São fundamentais para entender como o cérebro humano responde a estímulos visuais e desenvolver\n",
    "## algoritmos de análise de imagem médica"
   ]
  },
  {
   "cell_type": "code",
   "execution_count": 34,
   "id": "d37ef7d5-c7c2-4dd1-9a5f-26bef6c93e87",
   "metadata": {
    "tags": []
   },
   "outputs": [],
   "source": [
    "## 2.1 Dicionário de dados"
   ]
  },
  {
   "cell_type": "code",
   "execution_count": 35,
   "id": "e9dc3bb1-39fe-4b68-a7c0-b2dfc64831ab",
   "metadata": {
    "tags": []
   },
   "outputs": [
    {
     "data": {
      "text/html": [
       "<div>\n",
       "<style scoped>\n",
       "    .dataframe tbody tr th:only-of-type {\n",
       "        vertical-align: middle;\n",
       "    }\n",
       "\n",
       "    .dataframe tbody tr th {\n",
       "        vertical-align: top;\n",
       "    }\n",
       "\n",
       "    .dataframe thead th {\n",
       "        text-align: right;\n",
       "    }\n",
       "</style>\n",
       "<table border=\"1\" class=\"dataframe\">\n",
       "  <thead>\n",
       "    <tr style=\"text-align: right;\">\n",
       "      <th></th>\n",
       "      <th>variavel</th>\n",
       "      <th>descricao</th>\n",
       "      <th>tipo</th>\n",
       "      <th>subtipo</th>\n",
       "    </tr>\n",
       "  </thead>\n",
       "  <tbody>\n",
       "    <tr>\n",
       "      <th>0</th>\n",
       "      <td>subject</td>\n",
       "      <td>Identificação única do participante do estudo</td>\n",
       "      <td>qualitativa</td>\n",
       "      <td>nominal</td>\n",
       "    </tr>\n",
       "    <tr>\n",
       "      <th>1</th>\n",
       "      <td>timepoint</td>\n",
       "      <td>Intervalo de tempo entre aquisições de imagens...</td>\n",
       "      <td>quantitativa</td>\n",
       "      <td>discreta</td>\n",
       "    </tr>\n",
       "    <tr>\n",
       "      <th>2</th>\n",
       "      <td>event</td>\n",
       "      <td>Tipo de estímulo visual apresentado durante a ...</td>\n",
       "      <td>qualitativa</td>\n",
       "      <td>nominal</td>\n",
       "    </tr>\n",
       "    <tr>\n",
       "      <th>3</th>\n",
       "      <td>region</td>\n",
       "      <td>Parte específica do cérebro observada ou anali...</td>\n",
       "      <td>qualitativa</td>\n",
       "      <td>nominal</td>\n",
       "    </tr>\n",
       "    <tr>\n",
       "      <th>4</th>\n",
       "      <td>signal</td>\n",
       "      <td>Atividade cerebral medida pela ressonância mag...</td>\n",
       "      <td>quantitativa</td>\n",
       "      <td>contínua</td>\n",
       "    </tr>\n",
       "  </tbody>\n",
       "</table>\n",
       "</div>"
      ],
      "text/plain": [
       "    variavel                                          descricao          tipo  \\\n",
       "0    subject      Identificação única do participante do estudo   qualitativa   \n",
       "1  timepoint  Intervalo de tempo entre aquisições de imagens...  quantitativa   \n",
       "2      event  Tipo de estímulo visual apresentado durante a ...   qualitativa   \n",
       "3     region  Parte específica do cérebro observada ou anali...   qualitativa   \n",
       "4     signal  Atividade cerebral medida pela ressonância mag...  quantitativa   \n",
       "\n",
       "    subtipo  \n",
       "0   nominal  \n",
       "1  discreta  \n",
       "2   nominal  \n",
       "3   nominal  \n",
       "4  contínua  "
      ]
     },
     "execution_count": 35,
     "metadata": {},
     "output_type": "execute_result"
    }
   ],
   "source": [
    "dicionario = pd.DataFrame([\n",
    "    {\n",
    "        \"variavel\": \"subject\",\n",
    "        \"descricao\": \"Identificação única do participante do estudo\",\n",
    "        \"tipo\": \"qualitativa\",\n",
    "        \"subtipo\": \"nominal\"\n",
    "    },\n",
    "    {\n",
    "        \"variavel\": \"timepoint\",\n",
    "        \"descricao\": \"Intervalo de tempo entre aquisições de imagens fMRI\",\n",
    "        \"tipo\": \"quantitativa\",\n",
    "        \"subtipo\": \"discreta\"\n",
    "    },\n",
    "    {\n",
    "        \"variavel\": \"event\",\n",
    "        \"descricao\": \"Tipo de estímulo visual apresentado durante a ressonância magnética funcional\",\n",
    "        \"tipo\": \"qualitativa\",\n",
    "        \"subtipo\": \"nominal\"\n",
    "    },\n",
    "    {\n",
    "        \"variavel\": \"region\",\n",
    "        \"descricao\": \"Parte específica do cérebro observada ou analisada\",\n",
    "        \"tipo\": \"qualitativa\",\n",
    "        \"subtipo\": \"nominal\"\n",
    "    },\n",
    "    {\n",
    "        \"variavel\": \"signal\",\n",
    "        \"descricao\": \"Atividade cerebral medida pela ressonância magnética funcional (fMRI) em resposta aos estímulos visuais\",\n",
    "        \"tipo\": \"quantitativa\",\n",
    "        \"subtipo\": \"contínua\"\n",
    "    }\n",
    "])\n",
    "dicionario.to_csv('../../data/external/dictionary.csv', index=False)\n",
    "dicionario"
   ]
  },
  {
   "cell_type": "code",
   "execution_count": null,
   "id": "fb7873e7-bbe3-4a72-aede-4fc6b681b8ca",
   "metadata": {},
   "outputs": [],
   "source": [
    " ## - São 5 variáveis, sendo 3 qualitativas nominais, 1 quantitativa contínua e 1 quantitativa discreta"
   ]
  }
 ],
 "metadata": {
  "kernelspec": {
   "display_name": "Python 3 (ipykernel)",
   "language": "python",
   "name": "python3"
  },
  "language_info": {
   "codemirror_mode": {
    "name": "ipython",
    "version": 3
   },
   "file_extension": ".py",
   "mimetype": "text/x-python",
   "name": "python",
   "nbconvert_exporter": "python",
   "pygments_lexer": "ipython3",
   "version": "3.10.12"
  }
 },
 "nbformat": 4,
 "nbformat_minor": 5
}
